{
 "cells": [
  {
   "cell_type": "markdown",
   "id": "fafb9cd6",
   "metadata": {},
   "source": [
    "# Agent Engineering\n",
    "\n",
    "### An agent that can answer questions about the database\n",
    "\n",
    "#### Agentic Process\n",
    "- Build out the agentic process with more infrastructure.\n",
    "- I'm envisioning a planning agent, coding agent, QA agent, and a reporting agent.\n",
    "    - The planning agent will intake the user's question and provide more detailed instructions to the coding agent.\n",
    "    - The coding agent will generate the code based on the planning agent's instructions.\n",
    "    - The QA agent will test the code and provide feedback to the planning agent.\n",
    "    - The reporting agent will take the final results and generate a report.\n",
    "    - The planning agent will then update the instructions and the cycle repeats until a satisfactory answer is found.\n",
    "- The code style and reporting should be standardized.\n",
    "- Once this is working, I'll add a ML coding agent to generate the code for the ML models.\n",
    "    - This should be something the planning agent can initialize.\n",
    "- I need safety checks to ensure the code is safe to execute.\n",
    "- The code should be executed in a sandboxed environment and be able to run it's own terminal commands, including installing packages.\n",
    "\n",
    "\n",
    "#### Vibe Evals\n",
    "- TBD\n",
    "\n",
    "#### Next Steps:\n",
    "- TBD"
   ]
  },
  {
   "cell_type": "code",
   "execution_count": null,
   "id": "eb1de2ca",
   "metadata": {},
   "outputs": [],
   "source": []
  }
 ],
 "metadata": {
  "kernelspec": {
   "display_name": ".venv",
   "language": "python",
   "name": "python3"
  },
  "language_info": {
   "name": "python",
   "version": "3.10.16"
  }
 },
 "nbformat": 4,
 "nbformat_minor": 5
}
