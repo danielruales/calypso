{
 "cells": [
  {
   "cell_type": "markdown",
   "id": "1f408179",
   "metadata": {},
   "source": [
    "# EDA\n",
    "\n",
    "### Explore data distributions, cleaning, and feature engineering"
   ]
  },
  {
   "cell_type": "code",
   "execution_count": null,
   "id": "b1e491ae",
   "metadata": {},
   "outputs": [],
   "source": [
    "import pandas as pd\n",
    "import numpy as np\n",
    "import matplotlib.pyplot as plt\n",
    "import seaborn as sns"
   ]
  },
  {
   "cell_type": "code",
   "execution_count": 2,
   "id": "dc23c5ff",
   "metadata": {},
   "outputs": [],
   "source": [
    "order_df = pd.read_csv(\"../data/orders.csv\")\n",
    "customer_df = pd.read_csv(\"../data/customers.csv\")\n",
    "product_df = pd.read_csv(\"../data/products.csv\")"
   ]
  },
  {
   "cell_type": "markdown",
   "id": "5c2f5e68",
   "metadata": {},
   "source": [
    "## Products EDA"
   ]
  },
  {
   "cell_type": "code",
   "execution_count": 4,
   "id": "a16d03e9",
   "metadata": {},
   "outputs": [
    {
     "data": {
      "text/html": [
       "<div>\n",
       "<style scoped>\n",
       "    .dataframe tbody tr th:only-of-type {\n",
       "        vertical-align: middle;\n",
       "    }\n",
       "\n",
       "    .dataframe tbody tr th {\n",
       "        vertical-align: top;\n",
       "    }\n",
       "\n",
       "    .dataframe thead th {\n",
       "        text-align: right;\n",
       "    }\n",
       "</style>\n",
       "<table border=\"1\" class=\"dataframe\">\n",
       "  <thead>\n",
       "    <tr style=\"text-align: right;\">\n",
       "      <th></th>\n",
       "      <th>product_id</th>\n",
       "      <th>product_brand</th>\n",
       "      <th>product_name</th>\n",
       "      <th>product_description</th>\n",
       "      <th>product_price</th>\n",
       "      <th>product_category</th>\n",
       "      <th>product_subcategory</th>\n",
       "    </tr>\n",
       "  </thead>\n",
       "  <tbody>\n",
       "    <tr>\n",
       "      <th>0</th>\n",
       "      <td>1</td>\n",
       "      <td>Luxor</td>\n",
       "      <td>Luxor Designer T-Shirt</td>\n",
       "      <td>High-quality cotton designer t-shirt with uniq...</td>\n",
       "      <td>79.99</td>\n",
       "      <td>Clothing</td>\n",
       "      <td>T-shirts</td>\n",
       "    </tr>\n",
       "    <tr>\n",
       "      <th>1</th>\n",
       "      <td>2</td>\n",
       "      <td>Hermanos</td>\n",
       "      <td>Classic Cotton T-Shirt</td>\n",
       "      <td>Durable cotton t-shirt in various colors</td>\n",
       "      <td>24.99</td>\n",
       "      <td>Clothing</td>\n",
       "      <td>T-shirts</td>\n",
       "    </tr>\n",
       "    <tr>\n",
       "      <th>2</th>\n",
       "      <td>3</td>\n",
       "      <td>Daily Value</td>\n",
       "      <td>Basic Tee</td>\n",
       "      <td>Affordable and comfortable basic t-shirt</td>\n",
       "      <td>9.99</td>\n",
       "      <td>Clothing</td>\n",
       "      <td>T-shirts</td>\n",
       "    </tr>\n",
       "    <tr>\n",
       "      <th>3</th>\n",
       "      <td>4</td>\n",
       "      <td>Luxor</td>\n",
       "      <td>Luxor Tailored Pants</td>\n",
       "      <td>Luxury tailored pants with fine stitching and ...</td>\n",
       "      <td>129.99</td>\n",
       "      <td>Clothing</td>\n",
       "      <td>Pants</td>\n",
       "    </tr>\n",
       "    <tr>\n",
       "      <th>4</th>\n",
       "      <td>5</td>\n",
       "      <td>Hermanos</td>\n",
       "      <td>Chino Pants</td>\n",
       "      <td>Stylish chino pants for casual and business wear</td>\n",
       "      <td>49.99</td>\n",
       "      <td>Clothing</td>\n",
       "      <td>Pants</td>\n",
       "    </tr>\n",
       "  </tbody>\n",
       "</table>\n",
       "</div>"
      ],
      "text/plain": [
       "   product_id product_brand            product_name  \\\n",
       "0           1         Luxor  Luxor Designer T-Shirt   \n",
       "1           2      Hermanos  Classic Cotton T-Shirt   \n",
       "2           3   Daily Value               Basic Tee   \n",
       "3           4         Luxor    Luxor Tailored Pants   \n",
       "4           5      Hermanos             Chino Pants   \n",
       "\n",
       "                                 product_description  product_price  \\\n",
       "0  High-quality cotton designer t-shirt with uniq...          79.99   \n",
       "1           Durable cotton t-shirt in various colors          24.99   \n",
       "2           Affordable and comfortable basic t-shirt           9.99   \n",
       "3  Luxury tailored pants with fine stitching and ...         129.99   \n",
       "4   Stylish chino pants for casual and business wear          49.99   \n",
       "\n",
       "  product_category product_subcategory  \n",
       "0         Clothing            T-shirts  \n",
       "1         Clothing            T-shirts  \n",
       "2         Clothing            T-shirts  \n",
       "3         Clothing               Pants  \n",
       "4         Clothing               Pants  "
      ]
     },
     "execution_count": 4,
     "metadata": {},
     "output_type": "execute_result"
    }
   ],
   "source": [
    "product_df.head()"
   ]
  },
  {
   "cell_type": "code",
   "execution_count": 6,
   "id": "fed9c147",
   "metadata": {},
   "outputs": [
    {
     "name": "stdout",
     "output_type": "stream",
     "text": [
      "<class 'pandas.core.frame.DataFrame'>\n",
      "RangeIndex: 30 entries, 0 to 29\n",
      "Data columns (total 7 columns):\n",
      " #   Column               Non-Null Count  Dtype  \n",
      "---  ------               --------------  -----  \n",
      " 0   product_id           30 non-null     int64  \n",
      " 1   product_brand        30 non-null     object \n",
      " 2   product_name         30 non-null     object \n",
      " 3   product_description  30 non-null     object \n",
      " 4   product_price        30 non-null     float64\n",
      " 5   product_category     30 non-null     object \n",
      " 6   product_subcategory  30 non-null     object \n",
      "dtypes: float64(1), int64(1), object(5)\n",
      "memory usage: 1.8+ KB\n"
     ]
    }
   ],
   "source": [
    "product_df.info()"
   ]
  },
  {
   "cell_type": "code",
   "execution_count": 7,
   "id": "e11c92d8",
   "metadata": {},
   "outputs": [
    {
     "data": {
      "text/html": [
       "<div>\n",
       "<style scoped>\n",
       "    .dataframe tbody tr th:only-of-type {\n",
       "        vertical-align: middle;\n",
       "    }\n",
       "\n",
       "    .dataframe tbody tr th {\n",
       "        vertical-align: top;\n",
       "    }\n",
       "\n",
       "    .dataframe thead th {\n",
       "        text-align: right;\n",
       "    }\n",
       "</style>\n",
       "<table border=\"1\" class=\"dataframe\">\n",
       "  <thead>\n",
       "    <tr style=\"text-align: right;\">\n",
       "      <th></th>\n",
       "      <th>product_id</th>\n",
       "      <th>product_price</th>\n",
       "    </tr>\n",
       "  </thead>\n",
       "  <tbody>\n",
       "    <tr>\n",
       "      <th>count</th>\n",
       "      <td>30.000000</td>\n",
       "      <td>30.000000</td>\n",
       "    </tr>\n",
       "    <tr>\n",
       "      <th>mean</th>\n",
       "      <td>15.500000</td>\n",
       "      <td>229.053333</td>\n",
       "    </tr>\n",
       "    <tr>\n",
       "      <th>std</th>\n",
       "      <td>8.803408</td>\n",
       "      <td>511.935913</td>\n",
       "    </tr>\n",
       "    <tr>\n",
       "      <th>min</th>\n",
       "      <td>1.000000</td>\n",
       "      <td>0.890000</td>\n",
       "    </tr>\n",
       "    <tr>\n",
       "      <th>25%</th>\n",
       "      <td>8.250000</td>\n",
       "      <td>6.990000</td>\n",
       "    </tr>\n",
       "    <tr>\n",
       "      <th>50%</th>\n",
       "      <td>15.500000</td>\n",
       "      <td>37.990000</td>\n",
       "    </tr>\n",
       "    <tr>\n",
       "      <th>75%</th>\n",
       "      <td>22.750000</td>\n",
       "      <td>182.490000</td>\n",
       "    </tr>\n",
       "    <tr>\n",
       "      <th>max</th>\n",
       "      <td>30.000000</td>\n",
       "      <td>2499.990000</td>\n",
       "    </tr>\n",
       "  </tbody>\n",
       "</table>\n",
       "</div>"
      ],
      "text/plain": [
       "       product_id  product_price\n",
       "count   30.000000      30.000000\n",
       "mean    15.500000     229.053333\n",
       "std      8.803408     511.935913\n",
       "min      1.000000       0.890000\n",
       "25%      8.250000       6.990000\n",
       "50%     15.500000      37.990000\n",
       "75%     22.750000     182.490000\n",
       "max     30.000000    2499.990000"
      ]
     },
     "execution_count": 7,
     "metadata": {},
     "output_type": "execute_result"
    }
   ],
   "source": [
    "product_df.describe()"
   ]
  },
  {
   "cell_type": "markdown",
   "id": "ef3b2196",
   "metadata": {},
   "source": [
    "### Distributions"
   ]
  },
  {
   "cell_type": "code",
   "execution_count": 11,
   "id": "bea6824a",
   "metadata": {},
   "outputs": [
    {
     "data": {
      "image/png": "[encoded data removed]",
      "text/plain": [
       "<Figure size 800x500 with 1 Axes>"
      ]
     },
     "metadata": {},
     "output_type": "display_data"
    },
    {
     "data": {
      "image/png": "[encoded data removed]",
      "text/plain": [
       "<Figure size 800x500 with 1 Axes>"
      ]
     },
     "metadata": {},
     "output_type": "display_data"
    },
    {
     "data": {
      "image/png": "[encoded data removed]",
      "text/plain": [
       "<Figure size 800x500 with 1 Axes>"
      ]
     },
     "metadata": {},
     "output_type": "display_data"
    },
    {
     "data": {
      "image/png": "[encoded data removed]",
      "text/plain": [
       "<Figure size 800x500 with 1 Axes>"
      ]
     },
     "metadata": {},
     "output_type": "display_data"
    }
   ],
   "source": [
    "# Plot distribution of product prices\n",
    "plt.figure(figsize=(8, 5))\n",
    "sns.histplot(product_df['product_price'], bins=20, kde=True)\n",
    "plt.title('Distribution of Product Prices')\n",
    "plt.xlabel('Product Price')\n",
    "plt.ylabel('Count')\n",
    "plt.show()\n",
    "\n",
    "# Plot count of products by brand\n",
    "plt.figure(figsize=(8, 5))\n",
    "top_brands = product_df['product_brand'].value_counts().nlargest(10).index\n",
    "sns.countplot(data=product_df[product_df['product_brand'].isin(top_brands)], x='product_brand', order=top_brands)\n",
    "plt.title('Top 10 Product Brands')\n",
    "plt.xlabel('Product Brand')\n",
    "plt.ylabel('Count')\n",
    "plt.xticks(rotation=45)\n",
    "plt.show()\n",
    "\n",
    "# Plot count of products by category\n",
    "plt.figure(figsize=(8, 5))\n",
    "sns.countplot(data=product_df, x='product_category', order=product_df['product_category'].value_counts().index)\n",
    "plt.title('Number of Products by Category')\n",
    "plt.xlabel('Product Category')\n",
    "plt.ylabel('Count')\n",
    "plt.xticks(rotation=45)\n",
    "plt.show()\n",
    "\n",
    "# Plot count of products by category\n",
    "plt.figure(figsize=(8, 5))\n",
    "sns.countplot(data=product_df, x='product_subcategory', order=product_df['product_subcategory'].value_counts().index)\n",
    "plt.title('Number of Products by Subcategory')\n",
    "plt.xlabel('Product Subcategory')\n",
    "plt.ylabel('Count')\n",
    "plt.xticks(rotation=45)\n",
    "plt.show()\n",
    "\n"
   ]
  },
  {
   "cell_type": "markdown",
   "id": "4608db6f",
   "metadata": {},
   "source": [
    "### Data Quality\n",
    "\n",
    "Conclusion: No data issues found."
   ]
  },
  {
   "cell_type": "code",
   "execution_count": 13,
   "id": "420561e4",
   "metadata": {},
   "outputs": [
    {
     "name": "stdout",
     "output_type": "stream",
     "text": [
      "product_id             0\n",
      "product_brand          0\n",
      "product_name           0\n",
      "product_description    0\n",
      "product_price          0\n",
      "product_category       0\n",
      "product_subcategory    0\n",
      "dtype: int64\n"
     ]
    }
   ],
   "source": [
    "# Check for missing values\n",
    "print(product_df.isnull().sum())"
   ]
  },
  {
   "cell_type": "code",
   "execution_count": 14,
   "id": "63073c6f",
   "metadata": {},
   "outputs": [
    {
     "name": "stdout",
     "output_type": "stream",
     "text": [
      "0\n"
     ]
    }
   ],
   "source": [
    "# Check for duplicates\n",
    "print(product_df.duplicated().sum())"
   ]
  },
  {
   "cell_type": "code",
   "execution_count": 22,
   "id": "b3c7a887",
   "metadata": {},
   "outputs": [
    {
     "name": "stdout",
     "output_type": "stream",
     "text": [
      "Number of products with price less than 0: 0\n"
     ]
    },
    {
     "data": {
      "text/html": [
       "<div>\n",
       "<style scoped>\n",
       "    .dataframe tbody tr th:only-of-type {\n",
       "        vertical-align: middle;\n",
       "    }\n",
       "\n",
       "    .dataframe tbody tr th {\n",
       "        vertical-align: top;\n",
       "    }\n",
       "\n",
       "    .dataframe thead th {\n",
       "        text-align: right;\n",
       "    }\n",
       "</style>\n",
       "<table border=\"1\" class=\"dataframe\">\n",
       "  <thead>\n",
       "    <tr style=\"text-align: right;\">\n",
       "      <th></th>\n",
       "      <th>product_id</th>\n",
       "      <th>product_brand</th>\n",
       "      <th>product_name</th>\n",
       "      <th>product_description</th>\n",
       "      <th>product_price</th>\n",
       "      <th>product_category</th>\n",
       "      <th>product_subcategory</th>\n",
       "    </tr>\n",
       "  </thead>\n",
       "  <tbody>\n",
       "  </tbody>\n",
       "</table>\n",
       "</div>"
      ],
      "text/plain": [
       "Empty DataFrame\n",
       "Columns: [product_id, product_brand, product_name, product_description, product_price, product_category, product_subcategory]\n",
       "Index: []"
      ]
     },
     "execution_count": 22,
     "metadata": {},
     "output_type": "execute_result"
    }
   ],
   "source": [
    "# Check for price less than 0\n",
    "negative_prices = product_df[product_df['product_price'] < 0]\n",
    "print(f\"Number of products with price less than 0: {len(negative_prices)}\")\n",
    "# if not negative_prices.empty:\n",
    "    # print(negative_prices)\n",
    "\n",
    "negative_prices"
   ]
  },
  {
   "cell_type": "code",
   "execution_count": null,
   "id": "ad514182",
   "metadata": {},
   "outputs": [
    {
     "name": "stdout",
     "output_type": "stream",
     "text": [
      "Number of products with price greater than 1000: 2\n"
     ]
    },
    {
     "data": {
      "text/html": [
       "<div>\n",
       "<style scoped>\n",
       "    .dataframe tbody tr th:only-of-type {\n",
       "        vertical-align: middle;\n",
       "    }\n",
       "\n",
       "    .dataframe tbody tr th {\n",
       "        vertical-align: top;\n",
       "    }\n",
       "\n",
       "    .dataframe thead th {\n",
       "        text-align: right;\n",
       "    }\n",
       "</style>\n",
       "<table border=\"1\" class=\"dataframe\">\n",
       "  <thead>\n",
       "    <tr style=\"text-align: right;\">\n",
       "      <th></th>\n",
       "      <th>product_id</th>\n",
       "      <th>product_brand</th>\n",
       "      <th>product_name</th>\n",
       "      <th>product_description</th>\n",
       "      <th>product_price</th>\n",
       "      <th>product_category</th>\n",
       "      <th>product_subcategory</th>\n",
       "    </tr>\n",
       "  </thead>\n",
       "  <tbody>\n",
       "    <tr>\n",
       "      <th>18</th>\n",
       "      <td>19</td>\n",
       "      <td>Luxor</td>\n",
       "      <td>Luxor Ultra Laptop</td>\n",
       "      <td>High-performance luxury laptop for professionals</td>\n",
       "      <td>2499.99</td>\n",
       "      <td>Electronics</td>\n",
       "      <td>Laptop</td>\n",
       "    </tr>\n",
       "    <tr>\n",
       "      <th>21</th>\n",
       "      <td>22</td>\n",
       "      <td>Luxor</td>\n",
       "      <td>Luxor Pro Smartphone</td>\n",
       "      <td>High-end smartphone with exceptional camera</td>\n",
       "      <td>1299.99</td>\n",
       "      <td>Electronics</td>\n",
       "      <td>Smartphone</td>\n",
       "    </tr>\n",
       "  </tbody>\n",
       "</table>\n",
       "</div>"
      ],
      "text/plain": [
       "    product_id product_brand          product_name  \\\n",
       "18          19         Luxor    Luxor Ultra Laptop   \n",
       "21          22         Luxor  Luxor Pro Smartphone   \n",
       "\n",
       "                                 product_description  product_price  \\\n",
       "18  High-performance luxury laptop for professionals        2499.99   \n",
       "21       High-end smartphone with exceptional camera        1299.99   \n",
       "\n",
       "   product_category product_subcategory  \n",
       "18      Electronics              Laptop  \n",
       "21      Electronics          Smartphone  "
      ]
     },
     "execution_count": 21,
     "metadata": {},
     "output_type": "execute_result"
    }
   ],
   "source": [
    "# Check for price greater than 1000\n",
    "high_prices = product_df[product_df['product_price'] > 1000]\n",
    "print(f\"Number of products with price greater than 1000: {len(high_prices)}\")\n",
    "high_prices"
   ]
  },
  {
   "cell_type": "code",
   "execution_count": 26,
   "id": "e684a5b2",
   "metadata": {},
   "outputs": [
    {
     "data": {
      "text/html": [
       "<div>\n",
       "<style scoped>\n",
       "    .dataframe tbody tr th:only-of-type {\n",
       "        vertical-align: middle;\n",
       "    }\n",
       "\n",
       "    .dataframe tbody tr th {\n",
       "        vertical-align: top;\n",
       "    }\n",
       "\n",
       "    .dataframe thead th {\n",
       "        text-align: right;\n",
       "    }\n",
       "</style>\n",
       "<table border=\"1\" class=\"dataframe\">\n",
       "  <thead>\n",
       "    <tr style=\"text-align: right;\">\n",
       "      <th></th>\n",
       "      <th>product_id</th>\n",
       "      <th>product_brand</th>\n",
       "      <th>product_name</th>\n",
       "      <th>product_description</th>\n",
       "      <th>product_price</th>\n",
       "      <th>product_category</th>\n",
       "      <th>product_subcategory</th>\n",
       "    </tr>\n",
       "  </thead>\n",
       "  <tbody>\n",
       "    <tr>\n",
       "      <th>18</th>\n",
       "      <td>19</td>\n",
       "      <td>Luxor</td>\n",
       "      <td>Luxor Ultra Laptop</td>\n",
       "      <td>High-performance luxury laptop for professionals</td>\n",
       "      <td>2499.99</td>\n",
       "      <td>Electronics</td>\n",
       "      <td>Laptop</td>\n",
       "    </tr>\n",
       "    <tr>\n",
       "      <th>19</th>\n",
       "      <td>20</td>\n",
       "      <td>Hermanos</td>\n",
       "      <td>Mid-Range Laptop</td>\n",
       "      <td>Balanced performance laptop for work and play</td>\n",
       "      <td>799.99</td>\n",
       "      <td>Electronics</td>\n",
       "      <td>Laptop</td>\n",
       "    </tr>\n",
       "    <tr>\n",
       "      <th>20</th>\n",
       "      <td>21</td>\n",
       "      <td>Daily Value</td>\n",
       "      <td>Budget Laptop</td>\n",
       "      <td>Functional laptop for everyday tasks</td>\n",
       "      <td>299.99</td>\n",
       "      <td>Electronics</td>\n",
       "      <td>Laptop</td>\n",
       "    </tr>\n",
       "  </tbody>\n",
       "</table>\n",
       "</div>"
      ],
      "text/plain": [
       "    product_id product_brand        product_name  \\\n",
       "18          19         Luxor  Luxor Ultra Laptop   \n",
       "19          20      Hermanos    Mid-Range Laptop   \n",
       "20          21   Daily Value       Budget Laptop   \n",
       "\n",
       "                                 product_description  product_price  \\\n",
       "18  High-performance luxury laptop for professionals        2499.99   \n",
       "19     Balanced performance laptop for work and play         799.99   \n",
       "20              Functional laptop for everyday tasks         299.99   \n",
       "\n",
       "   product_category product_subcategory  \n",
       "18      Electronics              Laptop  \n",
       "19      Electronics              Laptop  \n",
       "20      Electronics              Laptop  "
      ]
     },
     "execution_count": 26,
     "metadata": {},
     "output_type": "execute_result"
    }
   ],
   "source": [
    "# Check prices for \"Laptop\" subcategory\n",
    "product_df[product_df['product_subcategory'] == 'Laptop']"
   ]
  },
  {
   "cell_type": "code",
   "execution_count": 28,
   "id": "bfbc797e",
   "metadata": {},
   "outputs": [
    {
     "data": {
      "text/html": [
       "<div>\n",
       "<style scoped>\n",
       "    .dataframe tbody tr th:only-of-type {\n",
       "        vertical-align: middle;\n",
       "    }\n",
       "\n",
       "    .dataframe tbody tr th {\n",
       "        vertical-align: top;\n",
       "    }\n",
       "\n",
       "    .dataframe thead th {\n",
       "        text-align: right;\n",
       "    }\n",
       "</style>\n",
       "<table border=\"1\" class=\"dataframe\">\n",
       "  <thead>\n",
       "    <tr style=\"text-align: right;\">\n",
       "      <th></th>\n",
       "      <th>product_id</th>\n",
       "      <th>product_brand</th>\n",
       "      <th>product_name</th>\n",
       "      <th>product_description</th>\n",
       "      <th>product_price</th>\n",
       "      <th>product_category</th>\n",
       "      <th>product_subcategory</th>\n",
       "    </tr>\n",
       "  </thead>\n",
       "  <tbody>\n",
       "    <tr>\n",
       "      <th>21</th>\n",
       "      <td>22</td>\n",
       "      <td>Luxor</td>\n",
       "      <td>Luxor Pro Smartphone</td>\n",
       "      <td>High-end smartphone with exceptional camera</td>\n",
       "      <td>1299.99</td>\n",
       "      <td>Electronics</td>\n",
       "      <td>Smartphone</td>\n",
       "    </tr>\n",
       "    <tr>\n",
       "      <th>22</th>\n",
       "      <td>23</td>\n",
       "      <td>Hermanos</td>\n",
       "      <td>Smartphone Plus</td>\n",
       "      <td>Feature-rich smartphone at a reasonable price</td>\n",
       "      <td>499.99</td>\n",
       "      <td>Electronics</td>\n",
       "      <td>Smartphone</td>\n",
       "    </tr>\n",
       "    <tr>\n",
       "      <th>23</th>\n",
       "      <td>24</td>\n",
       "      <td>Daily Value</td>\n",
       "      <td>Budget Smartphone</td>\n",
       "      <td>Basic smartphone with essential features</td>\n",
       "      <td>199.99</td>\n",
       "      <td>Electronics</td>\n",
       "      <td>Smartphone</td>\n",
       "    </tr>\n",
       "  </tbody>\n",
       "</table>\n",
       "</div>"
      ],
      "text/plain": [
       "    product_id product_brand          product_name  \\\n",
       "21          22         Luxor  Luxor Pro Smartphone   \n",
       "22          23      Hermanos       Smartphone Plus   \n",
       "23          24   Daily Value     Budget Smartphone   \n",
       "\n",
       "                              product_description  product_price  \\\n",
       "21    High-end smartphone with exceptional camera        1299.99   \n",
       "22  Feature-rich smartphone at a reasonable price         499.99   \n",
       "23       Basic smartphone with essential features         199.99   \n",
       "\n",
       "   product_category product_subcategory  \n",
       "21      Electronics          Smartphone  \n",
       "22      Electronics          Smartphone  \n",
       "23      Electronics          Smartphone  "
      ]
     },
     "execution_count": 28,
     "metadata": {},
     "output_type": "execute_result"
    }
   ],
   "source": [
    "# Check prices for \"Smartphone\" subcategory\n",
    "product_df[product_df['product_subcategory'] == 'Smartphone']"
   ]
  },
  {
   "cell_type": "markdown",
   "id": "6ad065c3",
   "metadata": {},
   "source": [
    "## Customers EDA"
   ]
  },
  {
   "cell_type": "code",
   "execution_count": 30,
   "id": "7cc1c109",
   "metadata": {},
   "outputs": [
    {
     "data": {
      "text/html": [
       "<div>\n",
       "<style scoped>\n",
       "    .dataframe tbody tr th:only-of-type {\n",
       "        vertical-align: middle;\n",
       "    }\n",
       "\n",
       "    .dataframe tbody tr th {\n",
       "        vertical-align: top;\n",
       "    }\n",
       "\n",
       "    .dataframe thead th {\n",
       "        text-align: right;\n",
       "    }\n",
       "</style>\n",
       "<table border=\"1\" class=\"dataframe\">\n",
       "  <thead>\n",
       "    <tr style=\"text-align: right;\">\n",
       "      <th></th>\n",
       "      <th>customer_id</th>\n",
       "      <th>customer_city</th>\n",
       "      <th>customer_state</th>\n",
       "      <th>customer_zip</th>\n",
       "      <th>customer_country</th>\n",
       "      <th>customer_gender</th>\n",
       "      <th>customer_age</th>\n",
       "      <th>customer_class_quartile</th>\n",
       "      <th>customer_description</th>\n",
       "    </tr>\n",
       "  </thead>\n",
       "  <tbody>\n",
       "    <tr>\n",
       "      <th>0</th>\n",
       "      <td>1</td>\n",
       "      <td>Los Angeles</td>\n",
       "      <td>CA</td>\n",
       "      <td>90001</td>\n",
       "      <td>USA</td>\n",
       "      <td>Female</td>\n",
       "      <td>34</td>\n",
       "      <td>Upper Middle 50-75%</td>\n",
       "      <td>Marketing Manager living in LA, enjoys outdoor...</td>\n",
       "    </tr>\n",
       "    <tr>\n",
       "      <th>1</th>\n",
       "      <td>2</td>\n",
       "      <td>New York</td>\n",
       "      <td>NY</td>\n",
       "      <td>10001</td>\n",
       "      <td>USA</td>\n",
       "      <td>Male</td>\n",
       "      <td>45</td>\n",
       "      <td>Top 25%</td>\n",
       "      <td>Finance executive from NYC, loves gourmet food...</td>\n",
       "    </tr>\n",
       "    <tr>\n",
       "      <th>2</th>\n",
       "      <td>3</td>\n",
       "      <td>Miami</td>\n",
       "      <td>FL</td>\n",
       "      <td>33101</td>\n",
       "      <td>USA</td>\n",
       "      <td>Female</td>\n",
       "      <td>29</td>\n",
       "      <td>Lower Middle 25-50%</td>\n",
       "      <td>Blogger based in Miami, passionate about fashi...</td>\n",
       "    </tr>\n",
       "    <tr>\n",
       "      <th>3</th>\n",
       "      <td>4</td>\n",
       "      <td>San Francisco</td>\n",
       "      <td>CA</td>\n",
       "      <td>94101</td>\n",
       "      <td>USA</td>\n",
       "      <td>Other</td>\n",
       "      <td>26</td>\n",
       "      <td>Upper Middle 50-75%</td>\n",
       "      <td>Tech startup founder, into innovation and design.</td>\n",
       "    </tr>\n",
       "    <tr>\n",
       "      <th>4</th>\n",
       "      <td>5</td>\n",
       "      <td>Brooklyn</td>\n",
       "      <td>NY</td>\n",
       "      <td>11201</td>\n",
       "      <td>USA</td>\n",
       "      <td>Male</td>\n",
       "      <td>38</td>\n",
       "      <td>Top 25%</td>\n",
       "      <td>Art curator in Brooklyn, enjoys visiting galle...</td>\n",
       "    </tr>\n",
       "  </tbody>\n",
       "</table>\n",
       "</div>"
      ],
      "text/plain": [
       "   customer_id  customer_city customer_state  customer_zip customer_country  \\\n",
       "0            1    Los Angeles             CA         90001              USA   \n",
       "1            2       New York             NY         10001              USA   \n",
       "2            3          Miami             FL         33101              USA   \n",
       "3            4  San Francisco             CA         94101              USA   \n",
       "4            5       Brooklyn             NY         11201              USA   \n",
       "\n",
       "  customer_gender  customer_age customer_class_quartile  \\\n",
       "0          Female            34     Upper Middle 50-75%   \n",
       "1            Male            45                 Top 25%   \n",
       "2          Female            29     Lower Middle 25-50%   \n",
       "3           Other            26     Upper Middle 50-75%   \n",
       "4            Male            38                 Top 25%   \n",
       "\n",
       "                                customer_description  \n",
       "0  Marketing Manager living in LA, enjoys outdoor...  \n",
       "1  Finance executive from NYC, loves gourmet food...  \n",
       "2  Blogger based in Miami, passionate about fashi...  \n",
       "3  Tech startup founder, into innovation and design.  \n",
       "4  Art curator in Brooklyn, enjoys visiting galle...  "
      ]
     },
     "execution_count": 30,
     "metadata": {},
     "output_type": "execute_result"
    }
   ],
   "source": [
    "customer_df.head()"
   ]
  },
  {
   "cell_type": "code",
   "execution_count": 31,
   "id": "3437d600",
   "metadata": {},
   "outputs": [
    {
     "name": "stdout",
     "output_type": "stream",
     "text": [
      "<class 'pandas.core.frame.DataFrame'>\n",
      "RangeIndex: 100 entries, 0 to 99\n",
      "Data columns (total 9 columns):\n",
      " #   Column                   Non-Null Count  Dtype \n",
      "---  ------                   --------------  ----- \n",
      " 0   customer_id              100 non-null    int64 \n",
      " 1   customer_city            100 non-null    object\n",
      " 2   customer_state           100 non-null    object\n",
      " 3   customer_zip             100 non-null    int64 \n",
      " 4   customer_country         100 non-null    object\n",
      " 5   customer_gender          100 non-null    object\n",
      " 6   customer_age             100 non-null    int64 \n",
      " 7   customer_class_quartile  100 non-null    object\n",
      " 8   customer_description     100 non-null    object\n",
      "dtypes: int64(3), object(6)\n",
      "memory usage: 7.2+ KB\n"
     ]
    }
   ],
   "source": [
    "customer_df.info()"
   ]
  },
  {
   "cell_type": "code",
   "execution_count": 32,
   "id": "82b71727",
   "metadata": {},
   "outputs": [
    {
     "data": {
      "text/html": [
       "<div>\n",
       "<style scoped>\n",
       "    .dataframe tbody tr th:only-of-type {\n",
       "        vertical-align: middle;\n",
       "    }\n",
       "\n",
       "    .dataframe tbody tr th {\n",
       "        vertical-align: top;\n",
       "    }\n",
       "\n",
       "    .dataframe thead th {\n",
       "        text-align: right;\n",
       "    }\n",
       "</style>\n",
       "<table border=\"1\" class=\"dataframe\">\n",
       "  <thead>\n",
       "    <tr style=\"text-align: right;\">\n",
       "      <th></th>\n",
       "      <th>customer_id</th>\n",
       "      <th>customer_zip</th>\n",
       "      <th>customer_age</th>\n",
       "    </tr>\n",
       "  </thead>\n",
       "  <tbody>\n",
       "    <tr>\n",
       "      <th>count</th>\n",
       "      <td>100.000000</td>\n",
       "      <td>100.000000</td>\n",
       "      <td>100.000000</td>\n",
       "    </tr>\n",
       "    <tr>\n",
       "      <th>mean</th>\n",
       "      <td>50.500000</td>\n",
       "      <td>53067.110000</td>\n",
       "      <td>36.900000</td>\n",
       "    </tr>\n",
       "    <tr>\n",
       "      <th>std</th>\n",
       "      <td>29.011492</td>\n",
       "      <td>34207.368923</td>\n",
       "      <td>9.341447</td>\n",
       "    </tr>\n",
       "    <tr>\n",
       "      <th>min</th>\n",
       "      <td>1.000000</td>\n",
       "      <td>7101.000000</td>\n",
       "      <td>22.000000</td>\n",
       "    </tr>\n",
       "    <tr>\n",
       "      <th>25%</th>\n",
       "      <td>25.750000</td>\n",
       "      <td>32213.250000</td>\n",
       "      <td>29.000000</td>\n",
       "    </tr>\n",
       "    <tr>\n",
       "      <th>50%</th>\n",
       "      <td>50.500000</td>\n",
       "      <td>33601.500000</td>\n",
       "      <td>36.000000</td>\n",
       "    </tr>\n",
       "    <tr>\n",
       "      <th>75%</th>\n",
       "      <td>75.250000</td>\n",
       "      <td>90501.000000</td>\n",
       "      <td>43.250000</td>\n",
       "    </tr>\n",
       "    <tr>\n",
       "      <th>max</th>\n",
       "      <td>100.000000</td>\n",
       "      <td>95816.000000</td>\n",
       "      <td>60.000000</td>\n",
       "    </tr>\n",
       "  </tbody>\n",
       "</table>\n",
       "</div>"
      ],
      "text/plain": [
       "       customer_id  customer_zip  customer_age\n",
       "count   100.000000    100.000000    100.000000\n",
       "mean     50.500000  53067.110000     36.900000\n",
       "std      29.011492  34207.368923      9.341447\n",
       "min       1.000000   7101.000000     22.000000\n",
       "25%      25.750000  32213.250000     29.000000\n",
       "50%      50.500000  33601.500000     36.000000\n",
       "75%      75.250000  90501.000000     43.250000\n",
       "max     100.000000  95816.000000     60.000000"
      ]
     },
     "execution_count": 32,
     "metadata": {},
     "output_type": "execute_result"
    }
   ],
   "source": [
    "customer_df.describe()"
   ]
  },
  {
   "cell_type": "markdown",
   "id": "12f69d4a",
   "metadata": {},
   "source": [
    "### Distributions"
   ]
  },
  {
   "cell_type": "code",
   "execution_count": 34,
   "id": "940ad4b9",
   "metadata": {},
   "outputs": [
    {
     "data": {
      "image/png": "[encoded data removed]",
      "text/plain": [
       "<Figure size 800x500 with 1 Axes>"
      ]
     },
     "metadata": {},
     "output_type": "display_data"
    },
    {
     "data": {
      "image/png": "[encoded data removed]",
      "text/plain": [
       "<Figure size 800x500 with 1 Axes>"
      ]
     },
     "metadata": {},
     "output_type": "display_data"
    },
    {
     "data": {
      "image/png": "[encoded data removed]",
      "text/plain": [
       "<Figure size 800x500 with 1 Axes>"
      ]
     },
     "metadata": {},
     "output_type": "display_data"
    },
    {
     "data": {
      "image/png": "[encoded data removed]",
      "text/plain": [
       "<Figure size 800x500 with 1 Axes>"
      ]
     },
     "metadata": {},
     "output_type": "display_data"
    }
   ],
   "source": [
    "# Plot distribution of customer_age\n",
    "plt.figure(figsize=(8, 5))\n",
    "customer_df['customer_age'].astype(float).hist(bins=15, color='skyblue', edgecolor='black')\n",
    "plt.title('Distribution of Customer Age')\n",
    "plt.xlabel('Age')\n",
    "plt.ylabel('Count')\n",
    "plt.show()\n",
    "\n",
    "# Plot distribution of customer_gender\n",
    "plt.figure(figsize=(8, 5))\n",
    "customer_df['customer_gender'].value_counts().plot(kind='bar', color='lightgreen', edgecolor='black')\n",
    "plt.title('Distribution of Customer Gender')\n",
    "plt.xlabel('Gender')\n",
    "plt.ylabel('Count')\n",
    "plt.show()\n",
    "\n",
    "# Plot distribution of customer_state\n",
    "plt.figure(figsize=(8, 5))\n",
    "customer_df['customer_state'].value_counts().plot(kind='bar', color='salmon', edgecolor='black')\n",
    "plt.title('Distribution of Customer State')\n",
    "plt.xlabel('State')\n",
    "plt.ylabel('Count')\n",
    "plt.show()\n",
    "\n",
    "# Plot distribution of customer_class_quartile\n",
    "plt.figure(figsize=(8, 5))\n",
    "customer_df['customer_class_quartile'].value_counts().plot(kind='bar', color='orchid', edgecolor='black')\n",
    "plt.title('Distribution of Customer Class Quartile')\n",
    "plt.xlabel('Class Quartile')\n",
    "plt.ylabel('Count')\n",
    "plt.show()\n",
    "\n",
    "\n"
   ]
  },
  {
   "cell_type": "markdown",
   "id": "d5d8f42c",
   "metadata": {},
   "source": [
    "### Data Quality\n",
    "\n",
    "Conclusion: No data issues found."
   ]
  },
  {
   "cell_type": "code",
   "execution_count": 35,
   "id": "a9cafc48",
   "metadata": {},
   "outputs": [
    {
     "name": "stdout",
     "output_type": "stream",
     "text": [
      "customer_id                0\n",
      "customer_city              0\n",
      "customer_state             0\n",
      "customer_zip               0\n",
      "customer_country           0\n",
      "customer_gender            0\n",
      "customer_age               0\n",
      "customer_class_quartile    0\n",
      "customer_description       0\n",
      "dtype: int64\n"
     ]
    }
   ],
   "source": [
    "# Check for missing values\n",
    "print(customer_df.isnull().sum())"
   ]
  },
  {
   "cell_type": "code",
   "execution_count": null,
   "id": "4a18c72e",
   "metadata": {},
   "outputs": [
    {
     "name": "stdout",
     "output_type": "stream",
     "text": [
      "0\n"
     ]
    }
   ],
   "source": [
    "# Check for duplicates\n",
    "print(customer_df.duplicated().sum())"
   ]
  },
  {
   "cell_type": "code",
   "execution_count": null,
   "id": "84ed5513",
   "metadata": {},
   "outputs": [
    {
     "name": "stdout",
     "output_type": "stream",
     "text": [
      "Number of customers with age less than 0: 0\n"
     ]
    },
    {
     "data": {
      "text/html": [
       "<div>\n",
       "<style scoped>\n",
       "    .dataframe tbody tr th:only-of-type {\n",
       "        vertical-align: middle;\n",
       "    }\n",
       "\n",
       "    .dataframe tbody tr th {\n",
       "        vertical-align: top;\n",
       "    }\n",
       "\n",
       "    .dataframe thead th {\n",
       "        text-align: right;\n",
       "    }\n",
       "</style>\n",
       "<table border=\"1\" class=\"dataframe\">\n",
       "  <thead>\n",
       "    <tr style=\"text-align: right;\">\n",
       "      <th></th>\n",
       "      <th>customer_id</th>\n",
       "      <th>customer_city</th>\n",
       "      <th>customer_state</th>\n",
       "      <th>customer_zip</th>\n",
       "      <th>customer_country</th>\n",
       "      <th>customer_gender</th>\n",
       "      <th>customer_age</th>\n",
       "      <th>customer_class_quartile</th>\n",
       "      <th>customer_description</th>\n",
       "    </tr>\n",
       "  </thead>\n",
       "  <tbody>\n",
       "  </tbody>\n",
       "</table>\n",
       "</div>"
      ],
      "text/plain": [
       "Empty DataFrame\n",
       "Columns: [customer_id, customer_city, customer_state, customer_zip, customer_country, customer_gender, customer_age, customer_class_quartile, customer_description]\n",
       "Index: []"
      ]
     },
     "execution_count": 38,
     "metadata": {},
     "output_type": "execute_result"
    }
   ],
   "source": [
    "# Check for age less than 0\n",
    "negative_age = customer_df[customer_df['customer_age'] < 0]\n",
    "print(f\"Number of customers with age less than 0: {len(negative_age)}\")\n",
    "negative_age"
   ]
  },
  {
   "cell_type": "code",
   "execution_count": null,
   "id": "1b1c3b4d",
   "metadata": {},
   "outputs": [
    {
     "name": "stdout",
     "output_type": "stream",
     "text": [
      "Number of customers with age less than 0: 0\n"
     ]
    },
    {
     "data": {
      "text/html": [
       "<div>\n",
       "<style scoped>\n",
       "    .dataframe tbody tr th:only-of-type {\n",
       "        vertical-align: middle;\n",
       "    }\n",
       "\n",
       "    .dataframe tbody tr th {\n",
       "        vertical-align: top;\n",
       "    }\n",
       "\n",
       "    .dataframe thead th {\n",
       "        text-align: right;\n",
       "    }\n",
       "</style>\n",
       "<table border=\"1\" class=\"dataframe\">\n",
       "  <thead>\n",
       "    <tr style=\"text-align: right;\">\n",
       "      <th></th>\n",
       "      <th>customer_id</th>\n",
       "      <th>customer_city</th>\n",
       "      <th>customer_state</th>\n",
       "      <th>customer_zip</th>\n",
       "      <th>customer_country</th>\n",
       "      <th>customer_gender</th>\n",
       "      <th>customer_age</th>\n",
       "      <th>customer_class_quartile</th>\n",
       "      <th>customer_description</th>\n",
       "    </tr>\n",
       "  </thead>\n",
       "  <tbody>\n",
       "  </tbody>\n",
       "</table>\n",
       "</div>"
      ],
      "text/plain": [
       "Empty DataFrame\n",
       "Columns: [customer_id, customer_city, customer_state, customer_zip, customer_country, customer_gender, customer_age, customer_class_quartile, customer_description]\n",
       "Index: []"
      ]
     },
     "execution_count": 41,
     "metadata": {},
     "output_type": "execute_result"
    }
   ],
   "source": [
    "# Check for age greater than 85\n",
    "high_age = customer_df[customer_df['customer_age'] > 85]\n",
    "print(f\"Number of customers with age less than 0: {len(high_age)}\")\n",
    "high_age"
   ]
  },
  {
   "cell_type": "markdown",
   "id": "ad85a44c",
   "metadata": {},
   "source": [
    "### Orders EDA"
   ]
  },
  {
   "cell_type": "code",
   "execution_count": 42,
   "id": "8abfa46b",
   "metadata": {},
   "outputs": [
    {
     "data": {
      "text/html": [
       "<div>\n",
       "<style scoped>\n",
       "    .dataframe tbody tr th:only-of-type {\n",
       "        vertical-align: middle;\n",
       "    }\n",
       "\n",
       "    .dataframe tbody tr th {\n",
       "        vertical-align: top;\n",
       "    }\n",
       "\n",
       "    .dataframe thead th {\n",
       "        text-align: right;\n",
       "    }\n",
       "</style>\n",
       "<table border=\"1\" class=\"dataframe\">\n",
       "  <thead>\n",
       "    <tr style=\"text-align: right;\">\n",
       "      <th></th>\n",
       "      <th>order_id</th>\n",
       "      <th>order_seq_nbr</th>\n",
       "      <th>customer_id</th>\n",
       "      <th>product_id</th>\n",
       "      <th>order_date</th>\n",
       "    </tr>\n",
       "  </thead>\n",
       "  <tbody>\n",
       "    <tr>\n",
       "      <th>0</th>\n",
       "      <td>1</td>\n",
       "      <td>1</td>\n",
       "      <td>1</td>\n",
       "      <td>1</td>\n",
       "      <td>2021-10-15</td>\n",
       "    </tr>\n",
       "    <tr>\n",
       "      <th>1</th>\n",
       "      <td>2</td>\n",
       "      <td>1</td>\n",
       "      <td>1</td>\n",
       "      <td>3</td>\n",
       "      <td>2021-10-15</td>\n",
       "    </tr>\n",
       "    <tr>\n",
       "      <th>2</th>\n",
       "      <td>3</td>\n",
       "      <td>1</td>\n",
       "      <td>2</td>\n",
       "      <td>2</td>\n",
       "      <td>2021-10-16</td>\n",
       "    </tr>\n",
       "    <tr>\n",
       "      <th>3</th>\n",
       "      <td>4</td>\n",
       "      <td>1</td>\n",
       "      <td>2</td>\n",
       "      <td>4</td>\n",
       "      <td>2021-10-16</td>\n",
       "    </tr>\n",
       "    <tr>\n",
       "      <th>4</th>\n",
       "      <td>5</td>\n",
       "      <td>1</td>\n",
       "      <td>3</td>\n",
       "      <td>5</td>\n",
       "      <td>2021-10-17</td>\n",
       "    </tr>\n",
       "  </tbody>\n",
       "</table>\n",
       "</div>"
      ],
      "text/plain": [
       "   order_id  order_seq_nbr  customer_id  product_id  order_date\n",
       "0         1              1            1           1  2021-10-15\n",
       "1         2              1            1           3  2021-10-15\n",
       "2         3              1            2           2  2021-10-16\n",
       "3         4              1            2           4  2021-10-16\n",
       "4         5              1            3           5  2021-10-17"
      ]
     },
     "execution_count": 42,
     "metadata": {},
     "output_type": "execute_result"
    }
   ],
   "source": [
    "order_df.head()"
   ]
  },
  {
   "cell_type": "code",
   "execution_count": 43,
   "id": "11ded73b",
   "metadata": {},
   "outputs": [
    {
     "name": "stdout",
     "output_type": "stream",
     "text": [
      "<class 'pandas.core.frame.DataFrame'>\n",
      "RangeIndex: 2171 entries, 0 to 2170\n",
      "Data columns (total 5 columns):\n",
      " #   Column         Non-Null Count  Dtype \n",
      "---  ------         --------------  ----- \n",
      " 0   order_id       2171 non-null   int64 \n",
      " 1   order_seq_nbr  2171 non-null   int64 \n",
      " 2   customer_id    2171 non-null   int64 \n",
      " 3   product_id     2171 non-null   int64 \n",
      " 4   order_date     2171 non-null   object\n",
      "dtypes: int64(4), object(1)\n",
      "memory usage: 84.9+ KB\n"
     ]
    }
   ],
   "source": [
    "order_df.info()"
   ]
  },
  {
   "cell_type": "code",
   "execution_count": 44,
   "id": "c35321ed",
   "metadata": {},
   "outputs": [
    {
     "data": {
      "text/html": [
       "<div>\n",
       "<style scoped>\n",
       "    .dataframe tbody tr th:only-of-type {\n",
       "        vertical-align: middle;\n",
       "    }\n",
       "\n",
       "    .dataframe tbody tr th {\n",
       "        vertical-align: top;\n",
       "    }\n",
       "\n",
       "    .dataframe thead th {\n",
       "        text-align: right;\n",
       "    }\n",
       "</style>\n",
       "<table border=\"1\" class=\"dataframe\">\n",
       "  <thead>\n",
       "    <tr style=\"text-align: right;\">\n",
       "      <th></th>\n",
       "      <th>order_id</th>\n",
       "      <th>order_seq_nbr</th>\n",
       "      <th>customer_id</th>\n",
       "      <th>product_id</th>\n",
       "    </tr>\n",
       "  </thead>\n",
       "  <tbody>\n",
       "    <tr>\n",
       "      <th>count</th>\n",
       "      <td>2171.000000</td>\n",
       "      <td>2171.000000</td>\n",
       "      <td>2171.000000</td>\n",
       "      <td>2171.000000</td>\n",
       "    </tr>\n",
       "    <tr>\n",
       "      <th>mean</th>\n",
       "      <td>1086.000000</td>\n",
       "      <td>6.656840</td>\n",
       "      <td>37.487333</td>\n",
       "      <td>14.863197</td>\n",
       "    </tr>\n",
       "    <tr>\n",
       "      <th>std</th>\n",
       "      <td>626.858038</td>\n",
       "      <td>8.577737</td>\n",
       "      <td>29.158698</td>\n",
       "      <td>8.738557</td>\n",
       "    </tr>\n",
       "    <tr>\n",
       "      <th>min</th>\n",
       "      <td>1.000000</td>\n",
       "      <td>1.000000</td>\n",
       "      <td>1.000000</td>\n",
       "      <td>1.000000</td>\n",
       "    </tr>\n",
       "    <tr>\n",
       "      <th>25%</th>\n",
       "      <td>543.500000</td>\n",
       "      <td>1.000000</td>\n",
       "      <td>13.000000</td>\n",
       "      <td>7.000000</td>\n",
       "    </tr>\n",
       "    <tr>\n",
       "      <th>50%</th>\n",
       "      <td>1086.000000</td>\n",
       "      <td>1.000000</td>\n",
       "      <td>28.000000</td>\n",
       "      <td>14.000000</td>\n",
       "    </tr>\n",
       "    <tr>\n",
       "      <th>75%</th>\n",
       "      <td>1628.500000</td>\n",
       "      <td>12.000000</td>\n",
       "      <td>61.000000</td>\n",
       "      <td>22.000000</td>\n",
       "    </tr>\n",
       "    <tr>\n",
       "      <th>max</th>\n",
       "      <td>2171.000000</td>\n",
       "      <td>29.000000</td>\n",
       "      <td>100.000000</td>\n",
       "      <td>40.000000</td>\n",
       "    </tr>\n",
       "  </tbody>\n",
       "</table>\n",
       "</div>"
      ],
      "text/plain": [
       "          order_id  order_seq_nbr  customer_id   product_id\n",
       "count  2171.000000    2171.000000  2171.000000  2171.000000\n",
       "mean   1086.000000       6.656840    37.487333    14.863197\n",
       "std     626.858038       8.577737    29.158698     8.738557\n",
       "min       1.000000       1.000000     1.000000     1.000000\n",
       "25%     543.500000       1.000000    13.000000     7.000000\n",
       "50%    1086.000000       1.000000    28.000000    14.000000\n",
       "75%    1628.500000      12.000000    61.000000    22.000000\n",
       "max    2171.000000      29.000000   100.000000    40.000000"
      ]
     },
     "execution_count": 44,
     "metadata": {},
     "output_type": "execute_result"
    }
   ],
   "source": [
    "order_df.describe()"
   ]
  },
  {
   "cell_type": "markdown",
   "id": "28bb28ad",
   "metadata": {},
   "source": [
    "### Distributions"
   ]
  },
  {
   "cell_type": "code",
   "execution_count": null,
   "id": "c3adc149",
   "metadata": {},
   "outputs": [
    {
     "data": {
      "image/png": "[encoded data removed]",
      "text/plain": [
       "<Figure size 1000x500 with 1 Axes>"
      ]
     },
     "metadata": {},
     "output_type": "display_data"
    }
   ],
   "source": [
    "# Ensure order_date is datetime\n",
    "order_df['order_date'] = pd.to_datetime(order_df['order_date'])\n",
    "\n",
    "# Group by order_date (weekly) and count number of orders per week\n",
    "orders_per_week = order_df.resample('W-MON', on='order_date').size()\n",
    "\n",
    "plt.figure(figsize=(10, 5))\n",
    "orders_per_week.plot()\n",
    "plt.title('Number of Orders per Week')\n",
    "plt.xlabel('Order Week (Starting Monday)')\n",
    "plt.ylabel('Number of Orders')\n",
    "plt.tight_layout()\n",
    "plt.show()"
   ]
  },
  {
   "cell_type": "markdown",
   "id": "119ae95e",
   "metadata": {},
   "source": [
    "### Data Quality\n",
    "\n",
    "Conclusion: No data issues found."
   ]
  },
  {
   "cell_type": "code",
   "execution_count": 47,
   "id": "b3c45c05",
   "metadata": {},
   "outputs": [
    {
     "name": "stdout",
     "output_type": "stream",
     "text": [
      "order_id         0\n",
      "order_seq_nbr    0\n",
      "customer_id      0\n",
      "product_id       0\n",
      "order_date       0\n",
      "dtype: int64\n"
     ]
    }
   ],
   "source": [
    "# Check for missing values\n",
    "print(order_df.isnull().sum())"
   ]
  },
  {
   "cell_type": "code",
   "execution_count": 48,
   "id": "3633b494",
   "metadata": {},
   "outputs": [
    {
     "name": "stdout",
     "output_type": "stream",
     "text": [
      "0\n"
     ]
    }
   ],
   "source": [
    "# Check for duplicates\n",
    "print(order_df.duplicated().sum())"
   ]
  },
  {
   "cell_type": "code",
   "execution_count": 53,
   "id": "171e2675",
   "metadata": {},
   "outputs": [
    {
     "name": "stdout",
     "output_type": "stream",
     "text": [
      "Number of duplicate orders by the same customer on the same day: 1121\n"
     ]
    },
    {
     "data": {
      "text/html": [
       "<div>\n",
       "<style scoped>\n",
       "    .dataframe tbody tr th:only-of-type {\n",
       "        vertical-align: middle;\n",
       "    }\n",
       "\n",
       "    .dataframe tbody tr th {\n",
       "        vertical-align: top;\n",
       "    }\n",
       "\n",
       "    .dataframe thead th {\n",
       "        text-align: right;\n",
       "    }\n",
       "</style>\n",
       "<table border=\"1\" class=\"dataframe\">\n",
       "  <thead>\n",
       "    <tr style=\"text-align: right;\">\n",
       "      <th></th>\n",
       "      <th>order_id</th>\n",
       "      <th>order_seq_nbr</th>\n",
       "      <th>customer_id</th>\n",
       "      <th>product_id</th>\n",
       "      <th>order_date</th>\n",
       "    </tr>\n",
       "  </thead>\n",
       "  <tbody>\n",
       "    <tr>\n",
       "      <th>1085</th>\n",
       "      <td>1086</td>\n",
       "      <td>1</td>\n",
       "      <td>1</td>\n",
       "      <td>3</td>\n",
       "      <td>2021-10-12</td>\n",
       "    </tr>\n",
       "    <tr>\n",
       "      <th>1086</th>\n",
       "      <td>1087</td>\n",
       "      <td>2</td>\n",
       "      <td>1</td>\n",
       "      <td>9</td>\n",
       "      <td>2021-10-12</td>\n",
       "    </tr>\n",
       "    <tr>\n",
       "      <th>0</th>\n",
       "      <td>1</td>\n",
       "      <td>1</td>\n",
       "      <td>1</td>\n",
       "      <td>1</td>\n",
       "      <td>2021-10-15</td>\n",
       "    </tr>\n",
       "    <tr>\n",
       "      <th>1</th>\n",
       "      <td>2</td>\n",
       "      <td>1</td>\n",
       "      <td>1</td>\n",
       "      <td>3</td>\n",
       "      <td>2021-10-15</td>\n",
       "    </tr>\n",
       "    <tr>\n",
       "      <th>200</th>\n",
       "      <td>201</td>\n",
       "      <td>1</td>\n",
       "      <td>1</td>\n",
       "      <td>21</td>\n",
       "      <td>2022-01-23</td>\n",
       "    </tr>\n",
       "    <tr>\n",
       "      <th>...</th>\n",
       "      <td>...</td>\n",
       "      <td>...</td>\n",
       "      <td>...</td>\n",
       "      <td>...</td>\n",
       "      <td>...</td>\n",
       "    </tr>\n",
       "    <tr>\n",
       "      <th>599</th>\n",
       "      <td>600</td>\n",
       "      <td>1</td>\n",
       "      <td>100</td>\n",
       "      <td>30</td>\n",
       "      <td>2022-08-10</td>\n",
       "    </tr>\n",
       "    <tr>\n",
       "      <th>798</th>\n",
       "      <td>799</td>\n",
       "      <td>1</td>\n",
       "      <td>100</td>\n",
       "      <td>19</td>\n",
       "      <td>2022-11-18</td>\n",
       "    </tr>\n",
       "    <tr>\n",
       "      <th>799</th>\n",
       "      <td>800</td>\n",
       "      <td>1</td>\n",
       "      <td>100</td>\n",
       "      <td>20</td>\n",
       "      <td>2022-11-18</td>\n",
       "    </tr>\n",
       "    <tr>\n",
       "      <th>998</th>\n",
       "      <td>999</td>\n",
       "      <td>1</td>\n",
       "      <td>100</td>\n",
       "      <td>9</td>\n",
       "      <td>2023-02-26</td>\n",
       "    </tr>\n",
       "    <tr>\n",
       "      <th>999</th>\n",
       "      <td>1000</td>\n",
       "      <td>1</td>\n",
       "      <td>100</td>\n",
       "      <td>10</td>\n",
       "      <td>2023-02-26</td>\n",
       "    </tr>\n",
       "  </tbody>\n",
       "</table>\n",
       "<p>1121 rows × 5 columns</p>\n",
       "</div>"
      ],
      "text/plain": [
       "      order_id  order_seq_nbr  customer_id  product_id order_date\n",
       "1085      1086              1            1           3 2021-10-12\n",
       "1086      1087              2            1           9 2021-10-12\n",
       "0            1              1            1           1 2021-10-15\n",
       "1            2              1            1           3 2021-10-15\n",
       "200        201              1            1          21 2022-01-23\n",
       "...        ...            ...          ...         ...        ...\n",
       "599        600              1          100          30 2022-08-10\n",
       "798        799              1          100          19 2022-11-18\n",
       "799        800              1          100          20 2022-11-18\n",
       "998        999              1          100           9 2023-02-26\n",
       "999       1000              1          100          10 2023-02-26\n",
       "\n",
       "[1121 rows x 5 columns]"
      ]
     },
     "execution_count": 53,
     "metadata": {},
     "output_type": "execute_result"
    }
   ],
   "source": [
    "# Check for orders by the same customer on the same day\n",
    "duplicate_orders = order_df.duplicated(subset=['customer_id', 'order_date'], keep=False)\n",
    "duplicates_df = order_df[duplicate_orders].sort_values(['customer_id', 'order_date'])\n",
    "print(f\"Number of duplicate orders by the same customer on the same day: {duplicates_df.shape[0]}\")\n",
    "duplicates_df"
   ]
  },
  {
   "cell_type": "code",
   "execution_count": null,
   "id": "09d55c21",
   "metadata": {},
   "outputs": [
    {
     "name": "stdout",
     "output_type": "stream",
     "text": [
      "Number of duplicate orders by the same customer on the same day: 2\n"
     ]
    },
    {
     "data": {
      "text/html": [
       "<div>\n",
       "<style scoped>\n",
       "    .dataframe tbody tr th:only-of-type {\n",
       "        vertical-align: middle;\n",
       "    }\n",
       "\n",
       "    .dataframe tbody tr th {\n",
       "        vertical-align: top;\n",
       "    }\n",
       "\n",
       "    .dataframe thead th {\n",
       "        text-align: right;\n",
       "    }\n",
       "</style>\n",
       "<table border=\"1\" class=\"dataframe\">\n",
       "  <thead>\n",
       "    <tr style=\"text-align: right;\">\n",
       "      <th></th>\n",
       "      <th>order_id</th>\n",
       "      <th>order_seq_nbr</th>\n",
       "      <th>customer_id</th>\n",
       "      <th>product_id</th>\n",
       "      <th>order_date</th>\n",
       "    </tr>\n",
       "  </thead>\n",
       "  <tbody>\n",
       "    <tr>\n",
       "      <th>1400</th>\n",
       "      <td>1401</td>\n",
       "      <td>3</td>\n",
       "      <td>4</td>\n",
       "      <td>20</td>\n",
       "      <td>2023-07-06</td>\n",
       "    </tr>\n",
       "    <tr>\n",
       "      <th>1461</th>\n",
       "      <td>1462</td>\n",
       "      <td>5</td>\n",
       "      <td>4</td>\n",
       "      <td>20</td>\n",
       "      <td>2023-07-06</td>\n",
       "    </tr>\n",
       "  </tbody>\n",
       "</table>\n",
       "</div>"
      ],
      "text/plain": [
       "      order_id  order_seq_nbr  customer_id  product_id order_date\n",
       "1400      1401              3            4          20 2023-07-06\n",
       "1461      1462              5            4          20 2023-07-06"
      ]
     },
     "execution_count": 54,
     "metadata": {},
     "output_type": "execute_result"
    }
   ],
   "source": [
    "# Check for duplicate orders by the same customer on the same day\n",
    "duplicate_orders = order_df.duplicated(subset=['customer_id', 'order_date', 'product_id'], keep=False)\n",
    "duplicates_df = order_df[duplicate_orders].sort_values(['customer_id', 'order_date'])\n",
    "print(f\"Number of duplicate orders by the same customer on the same day: {duplicates_df.shape[0]}\")\n",
    "duplicates_df"
   ]
  },
  {
   "cell_type": "code",
   "execution_count": 56,
   "id": "50aeba4a",
   "metadata": {},
   "outputs": [
    {
     "data": {
      "text/plain": [
       "product_id                                                        20\n",
       "product_brand                                               Hermanos\n",
       "product_name                                        Mid-Range Laptop\n",
       "product_description    Balanced performance laptop for work and play\n",
       "product_price                                                 799.99\n",
       "product_category                                         Electronics\n",
       "product_subcategory                                           Laptop\n",
       "Name: 19, dtype: object"
      ]
     },
     "execution_count": 56,
     "metadata": {},
     "output_type": "execute_result"
    }
   ],
   "source": [
    "# The only duplicate order is for a \"Mid-Range Laptop\" at $799.99\n",
    "product_df.iloc[19]"
   ]
  },
  {
   "cell_type": "code",
   "execution_count": 58,
   "id": "4cd11876",
   "metadata": {},
   "outputs": [
    {
     "data": {
      "text/plain": [
       "customer_id                                                                4\n",
       "customer_city                                                  San Francisco\n",
       "customer_state                                                            CA\n",
       "customer_zip                                                           94101\n",
       "customer_country                                                         USA\n",
       "customer_gender                                                        Other\n",
       "customer_age                                                              26\n",
       "customer_class_quartile                                  Upper Middle 50-75%\n",
       "customer_description       Tech startup founder, into innovation and design.\n",
       "Name: 3, dtype: object"
      ]
     },
     "execution_count": 58,
     "metadata": {},
     "output_type": "execute_result"
    }
   ],
   "source": [
    "# The customer that bought two laptops on the same day has an above average income and is tech focused, so it's plausible\n",
    "customer_df.iloc[3]"
   ]
  },
  {
   "cell_type": "code",
   "execution_count": null,
   "id": "cfb013af",
   "metadata": {},
   "outputs": [],
   "source": []
  }
 ],
 "metadata": {
  "kernelspec": {
   "display_name": ".venv",
   "language": "python",
   "name": "python3"
  },
  "language_info": {
   "codemirror_mode": {
    "name": "ipython",
    "version": 3
   },
   "file_extension": ".py",
   "mimetype": "text/x-python",
   "name": "python",
   "nbconvert_exporter": "python",
   "pygments_lexer": "ipython3",
   "version": "3.10.16"
  }
 },
 "nbformat": 4,
 "nbformat_minor": 5
}
